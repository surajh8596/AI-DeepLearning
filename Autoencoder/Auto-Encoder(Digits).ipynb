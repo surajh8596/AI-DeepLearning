{
 "cells": [
  {
   "cell_type": "markdown",
   "metadata": {
    "id": "mHksePaupfJu"
   },
   "source": [
    "### Autoencoders\n",
    "- An autoencoder is a special type of neural network that is trained to copy its input to its output.\n",
    "- **For example**, given an image of a handwritten digit, an autoencoder first encodes the image into a lower dimensional latent representation, then decodes the latent representation back to an image. An autoencoder learns to compress the data while minimizing the reconstruction error. "
   ]
  },
  {
   "cell_type": "markdown",
   "metadata": {
    "id": "JbkSb22mpxl6"
   },
   "source": [
    "## Import libraries\n"
   ]
  },
  {
   "cell_type": "code",
   "execution_count": 22,
   "metadata": {
    "id": "DJRpSCA-pAN3"
   },
   "outputs": [],
   "source": [
    "import matplotlib.pyplot as plt\n",
    "import numpy as np\n",
    "import pandas as pd\n",
    "import tensorflow as tf\n",
    "\n",
    "from sklearn.metrics import accuracy_score, precision_score, recall_score\n",
    "from sklearn.model_selection import train_test_split\n",
    "from keras.layers import Dense, Input\n",
    "from keras.datasets import mnist\n",
    "from keras.models import Model"
   ]
  },
  {
   "cell_type": "markdown",
   "metadata": {
    "id": "NUNLT8nkqecF"
   },
   "source": [
    "### Load the Dataset"
   ]
  },
  {
   "cell_type": "code",
   "execution_count": 2,
   "metadata": {
    "colab": {
     "base_uri": "https://localhost:8080/"
    },
    "id": "6oqNzyF5p0-R",
    "outputId": "1f2b109f-dabf-43cb-f663-3b062d2f3c41"
   },
   "outputs": [
    {
     "name": "stdout",
     "output_type": "stream",
     "text": [
      "Downloading data from https://storage.googleapis.com/tensorflow/tf-keras-datasets/mnist.npz\n",
      "11490434/11490434 [==============================] - 0s 0us/step\n",
      "(60000, 28, 28)\n",
      "(10000, 28, 28)\n"
     ]
    }
   ],
   "source": [
    "#Loading the inbuild Digits Imaages in mnist dataset\n",
    "(x_train, _), (x_test, _) = mnist.load_data()\n",
    "\n",
    "x_train = x_train.astype('float32') / 255.\n",
    "x_test = x_test.astype('float32') / 255.\n",
    "\n",
    "print(x_train.shape)\n",
    "print(x_test.shape)"
   ]
  },
  {
   "cell_type": "markdown",
   "metadata": {
    "id": "OrGP4ZlRq1X_"
   },
   "source": [
    "### Plot random image"
   ]
  },
  {
   "cell_type": "code",
   "execution_count": null,
   "metadata": {
    "colab": {
     "base_uri": "https://localhost:8080/",
     "height": 265
    },
    "id": "-aH-70t3quH8",
    "outputId": "cc4edbbd-25b6-41bb-b681-ff8783a4a97b"
   },
   "outputs": [
    {
     "data": {
      "image/png": "[encoded data removed]",
      "text/plain": [
       "<Figure size 432x288 with 1 Axes>"
      ]
     },
     "metadata": {
      "needs_background": "light"
     },
     "output_type": "display_data"
    }
   ],
   "source": [
    "plt.imshow(x_test[1000])\n",
    "plt.gray();"
   ]
  },
  {
   "cell_type": "code",
   "execution_count": null,
   "metadata": {
    "colab": {
     "base_uri": "https://localhost:8080/",
     "height": 265
    },
    "id": "Fw_gkYvBq-41",
    "outputId": "35f463de-722f-43ca-ce77-de391349b083"
   },
   "outputs": [
    {
     "data": {
      "image/png": "[encoded data removed]",
      "text/plain": [
       "<Figure size 432x288 with 1 Axes>"
      ]
     },
     "metadata": {
      "needs_background": "light"
     },
     "output_type": "display_data"
    }
   ],
   "source": [
    "plt.imshow(x_train[1000])\n",
    "plt.gray();"
   ]
  },
  {
   "cell_type": "code",
   "execution_count": null,
   "metadata": {
    "id": "sskBUULjrqPi"
   },
   "outputs": [],
   "source": []
  },
  {
   "cell_type": "markdown",
   "metadata": {
    "id": "oU7ubYFKGuxp"
   },
   "source": [
    "### Reshape the Data"
   ]
  },
  {
   "cell_type": "code",
   "execution_count": 7,
   "metadata": {
    "colab": {
     "base_uri": "https://localhost:8080/"
    },
    "id": "LY_PwXa3DahQ",
    "outputId": "1236f6a9-807b-457c-b6f1-6591bd79d5ec"
   },
   "outputs": [
    {
     "name": "stdout",
     "output_type": "stream",
     "text": [
      "(60000, 784)\n",
      "(10000, 784)\n"
     ]
    }
   ],
   "source": [
    "x_train = x_train.reshape(len(x_train), np.prod(x_train.shape[1:]))\n",
    "x_test = x_test.reshape(len(x_test), np.prod(x_test.shape[1:]))\n",
    "print(x_train.shape)\n",
    "print(x_test.shape)"
   ]
  },
  {
   "cell_type": "markdown",
   "metadata": {
    "id": "PD_H_BHa6hyu"
   },
   "source": [
    "### There are 4 hyperparameters that we need to set before training an autoencoder:\n",
    "1. **Code size**: number of nodes in the middle layer. Smaller size results in more compression.\n",
    "2. **Number of layers**: the autoencoder can be as deep as we like.\n",
    "3. **Number of nodes per layer**: the autoencoder architecture we’re working on is called a stacked autoencoder since the layers are stacked one after another. Usually stacked autoencoders look like a “sandwitch”. The number of nodes per layer decreases with each subsequent layer of the encoder, and increases back in the decoder. Also the decoder is symmetric to the encoder in terms of layer structure.\n",
    "4. **Loss function**: we either use mean squared error (mse) or binary crossentropy. If the input values are in the range [0, 1] then we typically use crossentropy, otherwise we use the mean squared error."
   ]
  },
  {
   "cell_type": "code",
   "execution_count": 11,
   "metadata": {
    "colab": {
     "base_uri": "https://localhost:8080/"
    },
    "id": "hllN2Pd27As_",
    "outputId": "c66d6b55-3045-4fde-8842-ccd7208377c4"
   },
   "outputs": [
    {
     "name": "stdout",
     "output_type": "stream",
     "text": [
      "Model: \"model_4\"\n",
      "_________________________________________________________________\n",
      " Layer (type)                Output Shape              Param #   \n",
      "=================================================================\n",
      " input_6 (InputLayer)        [(None, 784)]             0         \n",
      "                                                                 \n",
      " dense_23 (Dense)            (None, 128)               100480    \n",
      "                                                                 \n",
      " dense_24 (Dense)            (None, 64)                8256      \n",
      "                                                                 \n",
      " dense_25 (Dense)            (None, 32)                2080      \n",
      "                                                                 \n",
      "=================================================================\n",
      "Total params: 110,816\n",
      "Trainable params: 110,816\n",
      "Non-trainable params: 0\n",
      "_________________________________________________________________\n"
     ]
    }
   ],
   "source": [
    "#Creating Encoder Layers\n",
    "input_img= Input(shape=(784,))\n",
    "encoder=Dense(units=128, activation='relu')(input_img)  # Infusion input_img into ANN \n",
    "encoder=Dense(units=64, activation='relu')(encoder)\n",
    "encoder=Dense(units=32, activation='relu')(encoder)\n",
    "\n",
    "#Check the Encoded Layers\n",
    "encoded = Model(input_img, encoder)\n",
    "\n",
    "#Summary of Encoded Model\n",
    "encoded.summary()"
   ]
  },
  {
   "cell_type": "code",
   "execution_count": 14,
   "metadata": {
    "colab": {
     "base_uri": "https://localhost:8080/"
    },
    "id": "cFWwih0f80Qx",
    "outputId": "064fb7b6-da67-4615-de9a-4e5b858ba973"
   },
   "outputs": [
    {
     "name": "stdout",
     "output_type": "stream",
     "text": [
      "Model: \"model_7\"\n",
      "_________________________________________________________________\n",
      " Layer (type)                Output Shape              Param #   \n",
      "=================================================================\n",
      " input_6 (InputLayer)        [(None, 784)]             0         \n",
      "                                                                 \n",
      " dense_23 (Dense)            (None, 128)               100480    \n",
      "                                                                 \n",
      " dense_24 (Dense)            (None, 64)                8256      \n",
      "                                                                 \n",
      " dense_25 (Dense)            (None, 32)                2080      \n",
      "                                                                 \n",
      " dense_34 (Dense)            (None, 32)                1056      \n",
      "                                                                 \n",
      " dense_35 (Dense)            (None, 64)                2112      \n",
      "                                                                 \n",
      " dense_36 (Dense)            (None, 128)               8320      \n",
      "                                                                 \n",
      " dense_37 (Dense)            (None, 784)               101136    \n",
      "                                                                 \n",
      "=================================================================\n",
      "Total params: 223,440\n",
      "Trainable params: 223,440\n",
      "Non-trainable params: 0\n",
      "_________________________________________________________________\n"
     ]
    }
   ],
   "source": [
    "#Creating Decoder Layers\n",
    "decode=Dense(units=32, activation='relu')(encoder)\n",
    "decode=Dense(units=64, activation='relu')(decode)\n",
    "decode=Dense(units=128, activation='relu')(decode)\n",
    "decode=Dense(units=784, activation='sigmoid')(decode)\n",
    "\n",
    "#Create Final autoencoder model\n",
    "autoencoder=Model(input_img, decode)\n",
    "\n",
    "#Summary of AutoEncoded model\n",
    "autoencoder.summary()"
   ]
  },
  {
   "cell_type": "markdown",
   "metadata": {
    "id": "iKOrWJAhIoa7"
   },
   "source": [
    "### Compile the Autoencoded Model"
   ]
  },
  {
   "cell_type": "code",
   "execution_count": 15,
   "metadata": {
    "id": "b7GUOk1QIX1f"
   },
   "outputs": [],
   "source": [
    "autoencoder.compile(optimizer='adam', loss='binary_crossentropy', metrics=['accuracy'])"
   ]
  },
  {
   "cell_type": "markdown",
   "metadata": {
    "id": "52Jll8IeI8og"
   },
   "source": [
    "### Fit and Train the model\n",
    "- Train the model using `x_train` as both the input and the target. The `encoder` will learn to compress the dataset from 784 dimensions to the latent space, and the `decoder` will learn to reconstruct the original images."
   ]
  },
  {
   "cell_type": "code",
   "execution_count": 18,
   "metadata": {
    "colab": {
     "base_uri": "https://localhost:8080/"
    },
    "id": "9J5Yu5l3Iuxq",
    "outputId": "be4ab456-ac4d-46bc-c838-c01185883f31"
   },
   "outputs": [
    {
     "name": "stdout",
     "output_type": "stream",
     "text": [
      "Epoch 1/50\n",
      "235/235 [==============================] - 5s 22ms/step - loss: 0.1027 - accuracy: 0.0131 - val_loss: 0.1011 - val_accuracy: 0.0127\n",
      "Epoch 2/50\n",
      "235/235 [==============================] - 6s 27ms/step - loss: 0.1015 - accuracy: 0.0125 - val_loss: 0.0998 - val_accuracy: 0.0132\n",
      "Epoch 3/50\n",
      "235/235 [==============================] - 6s 24ms/step - loss: 0.1004 - accuracy: 0.0132 - val_loss: 0.0989 - val_accuracy: 0.0146\n",
      "Epoch 4/50\n",
      "235/235 [==============================] - 5s 20ms/step - loss: 0.0995 - accuracy: 0.0132 - val_loss: 0.0980 - val_accuracy: 0.0095\n",
      "Epoch 5/50\n",
      "235/235 [==============================] - 6s 28ms/step - loss: 0.0986 - accuracy: 0.0138 - val_loss: 0.0971 - val_accuracy: 0.0121\n",
      "Epoch 6/50\n",
      "235/235 [==============================] - 6s 24ms/step - loss: 0.0977 - accuracy: 0.0128 - val_loss: 0.0963 - val_accuracy: 0.0107\n",
      "Epoch 7/50\n",
      "235/235 [==============================] - 5s 20ms/step - loss: 0.0969 - accuracy: 0.0133 - val_loss: 0.0955 - val_accuracy: 0.0123\n",
      "Epoch 8/50\n",
      "235/235 [==============================] - 7s 28ms/step - loss: 0.0962 - accuracy: 0.0139 - val_loss: 0.0953 - val_accuracy: 0.0125\n",
      "Epoch 9/50\n",
      "235/235 [==============================] - 6s 25ms/step - loss: 0.0956 - accuracy: 0.0132 - val_loss: 0.0947 - val_accuracy: 0.0128\n",
      "Epoch 10/50\n",
      "235/235 [==============================] - 5s 21ms/step - loss: 0.0951 - accuracy: 0.0134 - val_loss: 0.0945 - val_accuracy: 0.0133\n",
      "Epoch 11/50\n",
      "235/235 [==============================] - 7s 30ms/step - loss: 0.0946 - accuracy: 0.0137 - val_loss: 0.0937 - val_accuracy: 0.0112\n",
      "Epoch 12/50\n",
      "235/235 [==============================] - 5s 23ms/step - loss: 0.0941 - accuracy: 0.0139 - val_loss: 0.0933 - val_accuracy: 0.0124\n",
      "Epoch 13/50\n",
      "235/235 [==============================] - 5s 21ms/step - loss: 0.0938 - accuracy: 0.0141 - val_loss: 0.0931 - val_accuracy: 0.0109\n",
      "Epoch 14/50\n",
      "235/235 [==============================] - 8s 33ms/step - loss: 0.0935 - accuracy: 0.0130 - val_loss: 0.0927 - val_accuracy: 0.0105\n",
      "Epoch 15/50\n",
      "235/235 [==============================] - 5s 21ms/step - loss: 0.0931 - accuracy: 0.0139 - val_loss: 0.0922 - val_accuracy: 0.0110\n",
      "Epoch 16/50\n",
      "235/235 [==============================] - 5s 21ms/step - loss: 0.0928 - accuracy: 0.0138 - val_loss: 0.0918 - val_accuracy: 0.0129\n",
      "Epoch 17/50\n",
      "235/235 [==============================] - 8s 35ms/step - loss: 0.0924 - accuracy: 0.0144 - val_loss: 0.0915 - val_accuracy: 0.0114\n",
      "Epoch 18/50\n",
      "235/235 [==============================] - 5s 20ms/step - loss: 0.0921 - accuracy: 0.0136 - val_loss: 0.0914 - val_accuracy: 0.0113\n",
      "Epoch 19/50\n",
      "235/235 [==============================] - 5s 23ms/step - loss: 0.0918 - accuracy: 0.0140 - val_loss: 0.0915 - val_accuracy: 0.0126\n",
      "Epoch 20/50\n",
      "235/235 [==============================] - 7s 30ms/step - loss: 0.0915 - accuracy: 0.0137 - val_loss: 0.0906 - val_accuracy: 0.0136\n",
      "Epoch 21/50\n",
      "235/235 [==============================] - 5s 21ms/step - loss: 0.0911 - accuracy: 0.0144 - val_loss: 0.0906 - val_accuracy: 0.0127\n",
      "Epoch 22/50\n",
      "235/235 [==============================] - 6s 24ms/step - loss: 0.0908 - accuracy: 0.0139 - val_loss: 0.0906 - val_accuracy: 0.0130\n",
      "Epoch 23/50\n",
      "235/235 [==============================] - 7s 29ms/step - loss: 0.0904 - accuracy: 0.0143 - val_loss: 0.0899 - val_accuracy: 0.0157\n",
      "Epoch 24/50\n",
      "235/235 [==============================] - 5s 21ms/step - loss: 0.0901 - accuracy: 0.0146 - val_loss: 0.0893 - val_accuracy: 0.0129\n",
      "Epoch 25/50\n",
      "235/235 [==============================] - 6s 27ms/step - loss: 0.0898 - accuracy: 0.0146 - val_loss: 0.0893 - val_accuracy: 0.0113\n",
      "Epoch 26/50\n",
      "235/235 [==============================] - 6s 27ms/step - loss: 0.0895 - accuracy: 0.0140 - val_loss: 0.0888 - val_accuracy: 0.0148\n",
      "Epoch 27/50\n",
      "235/235 [==============================] - 5s 20ms/step - loss: 0.0892 - accuracy: 0.0147 - val_loss: 0.0887 - val_accuracy: 0.0149\n",
      "Epoch 28/50\n",
      "235/235 [==============================] - 7s 28ms/step - loss: 0.0889 - accuracy: 0.0144 - val_loss: 0.0885 - val_accuracy: 0.0137\n",
      "Epoch 29/50\n",
      "235/235 [==============================] - 6s 24ms/step - loss: 0.0887 - accuracy: 0.0139 - val_loss: 0.0882 - val_accuracy: 0.0141\n",
      "Epoch 30/50\n",
      "235/235 [==============================] - 5s 21ms/step - loss: 0.0885 - accuracy: 0.0142 - val_loss: 0.0879 - val_accuracy: 0.0145\n",
      "Epoch 31/50\n",
      "235/235 [==============================] - 7s 29ms/step - loss: 0.0882 - accuracy: 0.0142 - val_loss: 0.0876 - val_accuracy: 0.0147\n",
      "Epoch 32/50\n",
      "235/235 [==============================] - 6s 24ms/step - loss: 0.0880 - accuracy: 0.0144 - val_loss: 0.0876 - val_accuracy: 0.0156\n",
      "Epoch 33/50\n",
      "235/235 [==============================] - 9s 39ms/step - loss: 0.0878 - accuracy: 0.0143 - val_loss: 0.0873 - val_accuracy: 0.0107\n",
      "Epoch 34/50\n",
      "235/235 [==============================] - 6s 26ms/step - loss: 0.0876 - accuracy: 0.0137 - val_loss: 0.0871 - val_accuracy: 0.0126\n",
      "Epoch 35/50\n",
      "235/235 [==============================] - 5s 21ms/step - loss: 0.0875 - accuracy: 0.0137 - val_loss: 0.0871 - val_accuracy: 0.0144\n",
      "Epoch 36/50\n",
      "235/235 [==============================] - 6s 27ms/step - loss: 0.0873 - accuracy: 0.0139 - val_loss: 0.0867 - val_accuracy: 0.0154\n",
      "Epoch 37/50\n",
      "235/235 [==============================] - 6s 24ms/step - loss: 0.0871 - accuracy: 0.0145 - val_loss: 0.0870 - val_accuracy: 0.0136\n",
      "Epoch 38/50\n",
      "235/235 [==============================] - 5s 20ms/step - loss: 0.0870 - accuracy: 0.0143 - val_loss: 0.0866 - val_accuracy: 0.0139\n",
      "Epoch 39/50\n",
      "235/235 [==============================] - 7s 28ms/step - loss: 0.0869 - accuracy: 0.0149 - val_loss: 0.0866 - val_accuracy: 0.0129\n",
      "Epoch 40/50\n",
      "235/235 [==============================] - 6s 23ms/step - loss: 0.0867 - accuracy: 0.0142 - val_loss: 0.0864 - val_accuracy: 0.0151\n",
      "Epoch 41/50\n",
      "235/235 [==============================] - 5s 20ms/step - loss: 0.0866 - accuracy: 0.0144 - val_loss: 0.0863 - val_accuracy: 0.0116\n",
      "Epoch 42/50\n",
      "235/235 [==============================] - 7s 29ms/step - loss: 0.0864 - accuracy: 0.0140 - val_loss: 0.0859 - val_accuracy: 0.0129\n",
      "Epoch 43/50\n",
      "235/235 [==============================] - 6s 24ms/step - loss: 0.0863 - accuracy: 0.0137 - val_loss: 0.0859 - val_accuracy: 0.0157\n",
      "Epoch 44/50\n",
      "235/235 [==============================] - 5s 20ms/step - loss: 0.0862 - accuracy: 0.0147 - val_loss: 0.0858 - val_accuracy: 0.0121\n",
      "Epoch 45/50\n",
      "235/235 [==============================] - 7s 30ms/step - loss: 0.0861 - accuracy: 0.0143 - val_loss: 0.0857 - val_accuracy: 0.0136\n",
      "Epoch 46/50\n",
      "235/235 [==============================] - 5s 23ms/step - loss: 0.0860 - accuracy: 0.0139 - val_loss: 0.0858 - val_accuracy: 0.0125\n",
      "Epoch 47/50\n",
      "235/235 [==============================] - 5s 20ms/step - loss: 0.0860 - accuracy: 0.0147 - val_loss: 0.0855 - val_accuracy: 0.0135\n",
      "Epoch 48/50\n",
      "235/235 [==============================] - 7s 32ms/step - loss: 0.0858 - accuracy: 0.0141 - val_loss: 0.0853 - val_accuracy: 0.0151\n",
      "Epoch 49/50\n",
      "235/235 [==============================] - 5s 21ms/step - loss: 0.0857 - accuracy: 0.0142 - val_loss: 0.0856 - val_accuracy: 0.0164\n",
      "Epoch 50/50\n",
      "235/235 [==============================] - 5s 21ms/step - loss: 0.0857 - accuracy: 0.0143 - val_loss: 0.0852 - val_accuracy: 0.0116\n"
     ]
    },
    {
     "data": {
      "text/plain": [
       "<keras.callbacks.History at 0x7fd91da4da30>"
      ]
     },
     "execution_count": 18,
     "metadata": {},
     "output_type": "execute_result"
    }
   ],
   "source": [
    "autoencoder.fit(x_train, x_train,\n",
    "                epochs=50,\n",
    "                batch_size=256,\n",
    "                shuffle=True,\n",
    "                validation_data=(x_test, x_test))"
   ]
  },
  {
   "cell_type": "markdown",
   "metadata": {
    "id": "v-vikmFRLM7T"
   },
   "source": [
    "### Check the Original, Encoded and final Decoded Image"
   ]
  },
  {
   "cell_type": "code",
   "execution_count": 19,
   "metadata": {
    "colab": {
     "base_uri": "https://localhost:8080/"
    },
    "id": "L52cGGlTI6O_",
    "outputId": "e217079f-6f71-4690-eb1c-d4239f7b6d8f"
   },
   "outputs": [
    {
     "name": "stdout",
     "output_type": "stream",
     "text": [
      "313/313 [==============================] - 2s 6ms/step\n",
      "313/313 [==============================] - 2s 5ms/step\n"
     ]
    }
   ],
   "source": [
    "encoded_imgs = encoded.predict(x_test)\n",
    "decoded_imgs = autoencoder.predict(x_test)"
   ]
  },
  {
   "cell_type": "code",
   "execution_count": 32,
   "metadata": {
    "colab": {
     "base_uri": "https://localhost:8080/",
     "height": 281
    },
    "id": "Q10gcqjsLcTj",
    "outputId": "19743c20-008f-4943-9ebd-992252f800c8"
   },
   "outputs": [
    {
     "data": {
      "image/png": "[encoded data removed]",
      "text/plain": [
       "<Figure size 2880x288 with 30 Axes>"
      ]
     },
     "metadata": {
      "needs_background": "light"
     },
     "output_type": "display_data"
    }
   ],
   "source": [
    "plt.figure(figsize=(40, 4))\n",
    "for i in range(10):\n",
    "    ax=plt.subplot(3,20, i+1)\n",
    "    plt.imshow(x_test[i].reshape(28,28))\n",
    "    plt.gray()\n",
    "    ax.get_xaxis().set_visible(False)\n",
    "    ax.get_yaxis().set_visible(False)\n",
    "    plt.title(\"Oroginal Image\")\n",
    "    \n",
    "    plt.subplot(3,20, i+1+20)\n",
    "    plt.imshow(encoded_imgs[i].reshape(8,4))\n",
    "    plt.gray()\n",
    "    ax.get_xaxis().set_visible(False)\n",
    "    ax.get_yaxis().set_visible(False)\n",
    "    plt.title(\"Encoded Image\")\n",
    "    \n",
    "    plt.subplot(3,20, i+1+2*20)\n",
    "    plt.imshow(decoded_imgs[i].reshape(28,28))\n",
    "    plt.gray()\n",
    "    ax.get_xaxis().set_visible(False)\n",
    "    ax.get_yaxis().set_visible(False)\n",
    "    plt.title(\"Decoded Image\") \n",
    "plt.show()"
   ]
  },
  {
   "cell_type": "code",
   "execution_count": null,
   "metadata": {
    "id": "RzLp2P1_Nebn"
   },
   "outputs": [],
   "source": []
  }
 ],
 "metadata": {
  "accelerator": "TPU",
  "colab": {
   "provenance": []
  },
  "gpuClass": "standard",
  "kernelspec": {
   "display_name": "Python 3 (ipykernel)",
   "language": "python",
   "name": "python3"
  },
  "language_info": {
   "codemirror_mode": {
    "name": "ipython",
    "version": 3
   },
   "file_extension": ".py",
   "mimetype": "text/x-python",
   "name": "python",
   "nbconvert_exporter": "python",
   "pygments_lexer": "ipython3",
   "version": "3.9.7"
  }
 },
 "nbformat": 4,
 "nbformat_minor": 1
}
